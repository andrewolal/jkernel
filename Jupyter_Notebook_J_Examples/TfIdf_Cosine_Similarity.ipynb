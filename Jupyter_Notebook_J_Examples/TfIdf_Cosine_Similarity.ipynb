{
 "cells": [
  {
   "cell_type": "markdown",
   "metadata": {},
   "source": [
    "# Document Similarity using Tf-Idf Model - the J way\n",
    "\n",
    "Tf-Idf / cosine similarity is a widely used technique in machine learning, information retrieval and text mining. The mathematical background of this method can be found in the so called \"Vector Space Model\" (VSM) which is an algebraic model, representing words as vectors.\n",
    "\n",
    "This Jupyter Notebook ist based on: http://www.journalofj.com/index.php/vol-5-no-1-august-2017"
   ]
  },
  {
   "cell_type": "markdown",
   "metadata": {},
   "source": [
    "### Tf-Idf / cosine similarity - explained in theory\n",
    "\n",
    "The following description is extremely short and covers only a small part of the whole theory and background.\n",
    "\n",
    "The common form of the Tf-Idf cosine similarity is:\n",
    "\n",
    "$$\n",
    "\\begin{align}\n",
    "similarity\\_score = cos \\theta = \\frac{d \\cdot q}{|d|\\times |q|} = \\frac{\\sum_{i=1}^{n}{d_i q_i}}{\\sqrt{\\sum_{i=1}^{n}{d_i^2}}\\sqrt{\\sum_{i=1}^{n}{q_i^2}}} = \\hat{d} \\cdot q\n",
    "\\end{align}\n",
    "$$\n",
    "\n",
    "**where:**\n",
    "\n",
    "$$\n",
    "\\begin{align}\n",
    "d       &=   \\text{document idf vector} \\\\\n",
    "\\hat{d} &=   \\text{normalized document idf vector} \\\\\n",
    "q       &=   \\text{query / normalized idf search bow vector} \\\\\n",
    "|d|     &=   \\text{Length of d (extension of Pythagoras's theorem)} \\\\\n",
    "|q|     &=   \\text{Length of q (extension of Pythagoras's theorem)} \\\\\n",
    "\\cdot   &=   \\text{Dot product of two vectors: } \\sum_{i=1}^{n}{d_i q_i} \\\\\n",
    "\\times  &=   \\text{Product of two numbers} \\\\\n",
    "\\end{align}\n",
    "$$"
   ]
  },
  {
   "attachments": {
    "TfIdf.jpg": {
     "image/jpeg": "[encoded data removed]"
    }
   },
   "cell_type": "markdown",
   "metadata": {},
   "source": [
    "**Graphical representation of the \"cosine similarity\":**\n",
    "\n",
    "![TfIdf.jpg](attachment:TfIdf.jpg)"
   ]
  },
  {
   "cell_type": "markdown",
   "metadata": {},
   "source": [
    "**Example:**\n",
    "\n",
    "$$\n",
    "\\begin{align}\n",
    "similarity_{txt : query} &= cos \\theta \\frac{corpus_{idfs} \\cdot query_{normalized}}{|corpus_{idfs}| \\times |query_{normalized}|} = 0.3857 \\\\\\\\\n",
    "similarity_{txt : query} &= cos \\theta \\frac{\n",
    "\\begin{bmatrix}\n",
    "1.0 & 0.0 & 0.415 & 0.415 & 0.0 & 0.0\n",
    "\\end{bmatrix} \\cdot\n",
    "\\begin{bmatrix}\n",
    "0.4472 & 0.8944 & 0.0 & 0.0 & 0.0 & 0.0\n",
    "\\end{bmatrix}\n",
    "}{|\\begin{bmatrix}\n",
    "1.0 & 0.0 & 0.415 & 0.415 & 0.0 & 0.0\n",
    "\\end{bmatrix}| \\times |\\begin{bmatrix}\n",
    "0.4472 & 0.8944 & 0.0 & 0.0 & 0.0 & 0.0\n",
    "\\end{bmatrix}|} \\\\\\\\\n",
    "&= \\frac{0.4472}{1.1595 \\times 1.0000} \\\\\\\\\n",
    "&= 0.3857\n",
    "\\end{align}\n",
    "$$"
   ]
  },
  {
   "cell_type": "markdown",
   "metadata": {},
   "source": [
    "### Some pre-requisites:\n",
    "\n",
    "Before analyzing texts, it's a good idea to perform some pre-processing tasks such as eliminating punctuation characters like commas, periods, etc. After that, we convert the whole text to lowercase, and remove so called stop-words, such as \"the\", \"is\", etc. Stop- words are irrelevant for text analysis, because they do not contain any information of interest."
   ]
  },
  {
   "cell_type": "code",
   "execution_count": 1,
   "metadata": {},
   "outputs": [
    {
     "name": "stdout",
     "output_type": "stream",
     "text": [
      "\n"
     ]
    }
   ],
   "source": [
    "punc_chars =: ',;.:'\n",
    "stop_words =: 'the';'is';'we';'can';'in'"
   ]
  },
  {
   "cell_type": "markdown",
   "metadata": {},
   "source": [
    "### Documents (training set):"
   ]
  },
  {
   "cell_type": "code",
   "execution_count": 2,
   "metadata": {},
   "outputs": [
    {
     "name": "stdout",
     "output_type": "stream",
     "text": [
      "┌────────────────┬──────────────────┬─────────────────────────────┬───────────────────────────────────────────┐\n",
      "│The sky is blue.│The sun is bright.│The sun in the sky is bright.│We can see the shining sun, the bright sun.│\n",
      "└────────────────┴──────────────────┴─────────────────────────────┴───────────────────────────────────────────┘\n"
     ]
    }
   ],
   "source": [
    " txt_0 =: 'The sky is blue.'\n",
    " txt_1 =: 'The sun is bright.'\n",
    " txt_2 =: 'The sun in the sky is bright.'\n",
    " txt_3 =: 'We can see the shining sun, the bright sun.'\n",
    "]txt_n =: txt_0;txt_1;txt_2;txt_3"
   ]
  },
  {
   "cell_type": "markdown",
   "metadata": {},
   "source": [
    "### Document to get the similarity score compared to txt_0-3 (test set):"
   ]
  },
  {
   "cell_type": "code",
   "execution_count": 3,
   "metadata": {},
   "outputs": [],
   "source": [
    "search_text =: 'The sky is blue.'"
   ]
  },
  {
   "cell_type": "markdown",
   "metadata": {},
   "source": [
    "### Question 1: What is the similarity score of search_text compared to txt_0 ?"
   ]
  },
  {
   "cell_type": "code",
   "execution_count": 4,
   "metadata": {},
   "outputs": [
    {
     "name": "stdout",
     "output_type": "stream",
     "text": [
      "1\n"
     ]
    }
   ],
   "source": [
    "search_text =: 'The sky is blue.'\n",
    "txt_0       =: 'The sky is blue.'\n",
    "search_text -: txt_0"
   ]
  },
  {
   "cell_type": "markdown",
   "metadata": {},
   "source": [
    "This one was easy. search_text has a similarity score of 1.0 compared to txt_0, because search_text and txt_0 are the same."
   ]
  },
  {
   "cell_type": "markdown",
   "metadata": {},
   "source": [
    "### Question 2: What is the similarity score of search_text compared to txt_2 ?"
   ]
  },
  {
   "cell_type": "code",
   "execution_count": 5,
   "metadata": {},
   "outputs": [
    {
     "name": "stdout",
     "output_type": "stream",
     "text": [
      "0\n"
     ]
    }
   ],
   "source": [
    "search_text =: 'The sky is blue.'\n",
    "txt_2       =: 'The sun in the sky is bright.'\n",
    "search_text -: txt_2"
   ]
  },
  {
   "cell_type": "markdown",
   "metadata": {},
   "source": [
    "This one is harder to determine using the naked eye, or a simple compare/match operator like -: (which returns simply 0 for \"inequality\"), but it's possible to calculate the similarity score by performing the following steps."
   ]
  },
  {
   "cell_type": "markdown",
   "metadata": {},
   "source": [
    "### Some utility verbs - or \"first things first\":\n",
    "\n",
    "Before we really start the text analysis, let's define some utility verbs."
   ]
  },
  {
   "cell_type": "code",
   "execution_count": 6,
   "metadata": {},
   "outputs": [],
   "source": [
    "NB. Remove punc_chars from text in y\n",
    "remove_punc_chars =: 3 : '(I. -. (a. i. y) e. (a. i. punc_chars)) { y'\n",
    "\n",
    "NB. Remove stop_words from words in y\n",
    "remove_stop_words =: 3 : 'stop_words -.~ y'\n",
    "\n",
    "NB. Get indices of dictionary entries in y\n",
    "get_dict_entries =: 3 : 'dict_words i. y'\n",
    "\n",
    "NB. Classify each entry in y\n",
    "classify_entries =: 3 : 'y ({. ; #) /. y'\n",
    "\n",
    "NB. Get missing indices\n",
    "get_missing_indices =: 3 : 'I. -. dict_words e. y'\n",
    "\n",
    "NB. Prepare missing indices\n",
    "prepare_missing_indices =: 3 : '|: (y) ,. (<0)'\n",
    "\n",
    "NB. Prepare corpus\n",
    "prepare_corpus =: 3 : '|:(]/:{\"1)|:(>0{y),.(>1{y)'\n",
    "\n",
    "NB. Get idf of a word in txt_n\n",
    "get_idf =: 3 : '+/ 0 >~ (+/ |: -. (<y) i. >txt_n)'\n",
    "\n",
    "NB. Normalize a vector\n",
    "normalize =: 3 : 'y%(%:+/y^2)'"
   ]
  },
  {
   "cell_type": "markdown",
   "metadata": {},
   "source": [
    "### Start:"
   ]
  },
  {
   "cell_type": "code",
   "execution_count": 7,
   "metadata": {},
   "outputs": [
    {
     "name": "stdout",
     "output_type": "stream",
     "text": [
      "┌────────────────┬──────────────────┬─────────────────────────────┬───────────────────────────────────────────┐\n",
      "│The sky is blue.│The sun is bright.│The sun in the sky is bright.│We can see the shining sun, the bright sun.│\n",
      "└────────────────┴──────────────────┴─────────────────────────────┴───────────────────────────────────────────┘\n"
     ]
    }
   ],
   "source": [
    "]txt_n"
   ]
  },
  {
   "cell_type": "markdown",
   "metadata": {},
   "source": [
    "### Step 1:\n",
    "\n",
    "Convert all words to lowercase."
   ]
  },
  {
   "cell_type": "code",
   "execution_count": 8,
   "metadata": {},
   "outputs": [
    {
     "name": "stdout",
     "output_type": "stream",
     "text": [
      "┌────────────────┬──────────────────┬─────────────────────────────┬───────────────────────────────────────────┐\n",
      "│the sky is blue.│the sun is bright.│the sun in the sky is bright.│we can see the shining sun, the bright sun.│\n",
      "└────────────────┴──────────────────┴─────────────────────────────┴───────────────────────────────────────────┘\n"
     ]
    }
   ],
   "source": [
    "NB. Convert all words to lower case\n",
    "]txt_n =: tolower each txt_n"
   ]
  },
  {
   "cell_type": "markdown",
   "metadata": {},
   "source": [
    "### Step 2:\n",
    "\n",
    "Remove punctuation characters."
   ]
  },
  {
   "cell_type": "code",
   "execution_count": 9,
   "metadata": {
    "scrolled": true
   },
   "outputs": [
    {
     "name": "stdout",
     "output_type": "stream",
     "text": [
      "┌───────────────┬─────────────────┬────────────────────────────┬─────────────────────────────────────────┐\n",
      "│the sky is blue│the sun is bright│the sun in the sky is bright│we can see the shining sun the bright sun│\n",
      "└───────────────┴─────────────────┴────────────────────────────┴─────────────────────────────────────────┘\n"
     ]
    }
   ],
   "source": [
    "NB. Remove punctuation characters\n",
    "]txt_n =: remove_punc_chars each txt_n"
   ]
  },
  {
   "cell_type": "markdown",
   "metadata": {},
   "source": [
    "### Step 3:\n",
    "\n",
    "Split sentences into single words."
   ]
  },
  {
   "cell_type": "code",
   "execution_count": 10,
   "metadata": {},
   "outputs": [
    {
     "name": "stdout",
     "output_type": "stream",
     "text": [
      "┌─────────────────┬───────────────────┬──────────────────────────────┬───────────────────────────────────────────┐\n",
      "│┌───┬───┬──┬────┐│┌───┬───┬──┬──────┐│┌───┬───┬──┬───┬───┬──┬──────┐│┌──┬───┬───┬───┬───────┬───┬───┬──────┬───┐│\n",
      "││the│sky│is│blue│││the│sun│is│bright│││the│sun│in│the│sky│is│bright│││we│can│see│the│shining│sun│the│bright│sun││\n",
      "│└───┴───┴──┴────┘│└───┴───┴──┴──────┘│└───┴───┴──┴───┴───┴──┴──────┘│└──┴───┴───┴───┴───────┴───┴───┴──────┴───┘│\n",
      "└─────────────────┴───────────────────┴──────────────────────────────┴───────────────────────────────────────────┘\n"
     ]
    }
   ],
   "source": [
    "NB. Split sentences into single words\n",
    "]txt_n =: cut each txt_n"
   ]
  },
  {
   "cell_type": "markdown",
   "metadata": {},
   "source": [
    "### Step 4:\n",
    "\n",
    "Remove stop-words."
   ]
  },
  {
   "cell_type": "code",
   "execution_count": 11,
   "metadata": {},
   "outputs": [
    {
     "name": "stdout",
     "output_type": "stream",
     "text": [
      "┌──────────┬────────────┬────────────────┬────────────────────────────┐\n",
      "│┌───┬────┐│┌───┬──────┐│┌───┬───┬──────┐│┌───┬───────┬───┬──────┬───┐│\n",
      "││sky│blue│││sun│bright│││sun│sky│bright│││see│shining│sun│bright│sun││\n",
      "│└───┴────┘│└───┴──────┘│└───┴───┴──────┘│└───┴───────┴───┴──────┴───┘│\n",
      "└──────────┴────────────┴────────────────┴────────────────────────────┘\n"
     ]
    }
   ],
   "source": [
    "NB. Remove stop words\n",
    "]txt_n =: remove_stop_words each txt_n"
   ]
  },
  {
   "cell_type": "markdown",
   "metadata": {},
   "source": [
    "### Step 5:\n",
    "\n",
    "Create a dictionary that contains all words from all documents (without stop-words), and assign a unique id (top row) to each word."
   ]
  },
  {
   "cell_type": "code",
   "execution_count": 12,
   "metadata": {},
   "outputs": [
    {
     "name": "stdout",
     "output_type": "stream",
     "text": [
      "┌───┬────┬───┬──────┬───┬───────┐\n",
      "│sky│blue│sun│bright│see│shining│\n",
      "└───┴────┴───┴──────┴───┴───────┘\n"
     ]
    }
   ],
   "source": [
    "NB. Create dictionary words array\n",
    "]dict_words =: (~.(,/>txt_n))-.<''"
   ]
  },
  {
   "cell_type": "code",
   "execution_count": 13,
   "metadata": {},
   "outputs": [
    {
     "name": "stdout",
     "output_type": "stream",
     "text": [
      "┌───┬────┬───┬──────┬───┬───────┐\n",
      "│0  │1   │2  │3     │4  │5      │\n",
      "├───┼────┼───┼──────┼───┼───────┤\n",
      "│sky│blue│sun│bright│see│shining│\n",
      "└───┴────┴───┴──────┴───┴───────┘\n"
     ]
    }
   ],
   "source": [
    "NB. Create dictionary (each word gets a unique id)\n",
    "]dictionary =: |:(;/i.#dict_words),.dict_words"
   ]
  },
  {
   "cell_type": "markdown",
   "metadata": {},
   "source": [
    "### Step 6:\n",
    "\n",
    "Build a corpus (bag of words), where txt_0-3 are represented by each words unique id from the dictionary, and the number of how many times a word/term appears in a document (the term frequency)."
   ]
  },
  {
   "cell_type": "code",
   "execution_count": 14,
   "metadata": {},
   "outputs": [
    {
     "name": "stdout",
     "output_type": "stream",
     "text": [
      "┌─────┬─────┬───────┬─────────┐\n",
      "│┌─┬─┐│┌─┬─┐│┌─┬─┬─┐│┌─┬─┬─┬─┐│\n",
      "││0│1│││2│3│││2│0│3│││4│5│2│3││\n",
      "│├─┼─┤│├─┼─┤│├─┼─┼─┤│├─┼─┼─┼─┤│\n",
      "││1│1│││1│1│││1│1│1│││1│1│2│1││\n",
      "│└─┴─┘│└─┴─┘│└─┴─┴─┘│└─┴─┴─┴─┘│\n",
      "└─────┴─────┴───────┴─────────┘\n"
     ]
    }
   ],
   "source": [
    "NB. Create corpus (bag of words, ids and number of occurence in text)\n",
    "]corpus =: |: each classify_entries each get_dict_entries each txt_n"
   ]
  },
  {
   "cell_type": "code",
   "execution_count": 15,
   "metadata": {},
   "outputs": [
    {
     "name": "stdout",
     "output_type": "stream",
     "text": [
      "┌─────────┬─────────┬───────┬─────┐\n",
      "│┌─┬─┬─┬─┐│┌─┬─┬─┬─┐│┌─┬─┬─┐│┌─┬─┐│\n",
      "││2│3│4│5│││0│1│4│5│││1│4│5│││0│1││\n",
      "│└─┴─┴─┴─┘│└─┴─┴─┴─┘│└─┴─┴─┘│└─┴─┘│\n",
      "└─────────┴─────────┴───────┴─────┘\n"
     ]
    }
   ],
   "source": [
    "]fill_indices =: |: <\"0 each > each (get_missing_indices each txt_n)"
   ]
  },
  {
   "cell_type": "code",
   "execution_count": 16,
   "metadata": {},
   "outputs": [
    {
     "name": "stdout",
     "output_type": "stream",
     "text": [
      "┌─────────┬─────────┬───────┬─────┐\n",
      "│┌─┬─┬─┬─┐│┌─┬─┬─┬─┐│┌─┬─┬─┐│┌─┬─┐│\n",
      "││2│3│4│5│││0│1│4│5│││1│4│5│││0│1││\n",
      "│├─┼─┼─┼─┤│├─┼─┼─┼─┤│├─┼─┼─┤│├─┼─┤│\n",
      "││0│0│0│0│││0│0│0│0│││0│0│0│││0│0││\n",
      "│└─┴─┴─┴─┘│└─┴─┴─┴─┘│└─┴─┴─┘│└─┴─┘│\n",
      "└─────────┴─────────┴───────┴─────┘\n"
     ]
    }
   ],
   "source": [
    "]fill_indices =: prepare_missing_indices each fill_indices"
   ]
  },
  {
   "cell_type": "markdown",
   "metadata": {},
   "source": [
    "Then calculate the \"missing\" indices, because not all documents contain all words from the dictionary. We fill-up the resulting vectors, so that each document vector contain all dictionary id's plus the corresponding term-frequency. The term-frequency may have a value of 0 (zero) if the dictionary-word does not appear in the document."
   ]
  },
  {
   "cell_type": "code",
   "execution_count": 17,
   "metadata": {},
   "outputs": [
    {
     "name": "stdout",
     "output_type": "stream",
     "text": [
      "┌─────────┬─────────┐\n",
      "│┌─┬─┐    │┌─┬─┬─┬─┐│\n",
      "││0│1│    ││2│3│4│5││\n",
      "│├─┼─┤    │├─┼─┼─┼─┤│\n",
      "││1│1│    ││0│0│0│0││\n",
      "│└─┴─┘    │└─┴─┴─┴─┘│\n",
      "├─────────┼─────────┤\n",
      "│┌─┬─┐    │┌─┬─┬─┬─┐│\n",
      "││2│3│    ││0│1│4│5││\n",
      "│├─┼─┤    │├─┼─┼─┼─┤│\n",
      "││1│1│    ││0│0│0│0││\n",
      "│└─┴─┘    │└─┴─┴─┴─┘│\n",
      "├─────────┼─────────┤\n",
      "│┌─┬─┬─┐  │┌─┬─┬─┐  │\n",
      "││2│0│3│  ││1│4│5│  │\n",
      "│├─┼─┼─┤  │├─┼─┼─┤  │\n",
      "││1│1│1│  ││0│0│0│  │\n",
      "│└─┴─┴─┘  │└─┴─┴─┘  │\n",
      "├─────────┼─────────┤\n",
      "│┌─┬─┬─┬─┐│┌─┬─┐    │\n",
      "││4│5│2│3│││0│1│    │\n",
      "│├─┼─┼─┼─┤│├─┼─┤    │\n",
      "││1│1│2│1│││0│0│    │\n",
      "│└─┴─┴─┴─┘│└─┴─┘    │\n",
      "└─────────┴─────────┘\n"
     ]
    }
   ],
   "source": [
    "]corpus =: corpus,.fill_indices"
   ]
  },
  {
   "cell_type": "code",
   "execution_count": 18,
   "metadata": {},
   "outputs": [
    {
     "name": "stdout",
     "output_type": "stream",
     "text": [
      "┌─────────────┬─────────────┬─────────────┬─────────────┐\n",
      "│┌─┬─┬─┬─┬─┬─┐│┌─┬─┬─┬─┬─┬─┐│┌─┬─┬─┬─┬─┬─┐│┌─┬─┬─┬─┬─┬─┐│\n",
      "││0│1│2│3│4│5│││0│1│2│3│4│5│││0│1│2│3│4│5│││0│1│2│3│4│5││\n",
      "│├─┼─┼─┼─┼─┼─┤│├─┼─┼─┼─┼─┼─┤│├─┼─┼─┼─┼─┼─┤│├─┼─┼─┼─┼─┼─┤│\n",
      "││1│1│0│0│0│0│││0│0│1│1│0│0│││1│0│1│1│0│0│││0│0│2│1│1│1││\n",
      "│└─┴─┴─┴─┴─┴─┘│└─┴─┴─┴─┴─┴─┘│└─┴─┴─┴─┴─┴─┘│└─┴─┴─┴─┴─┴─┘│\n",
      "└─────────────┴─────────────┴─────────────┴─────────────┘\n"
     ]
    }
   ],
   "source": [
    "NB. Finally we build the corpus as we use it for calculation.\n",
    "]corpus =: <\"2 prepare_corpus\"1 corpus"
   ]
  },
  {
   "cell_type": "markdown",
   "metadata": {},
   "source": [
    "Let's have a closer look at the corpus, for example the last cell ..."
   ]
  },
  {
   "cell_type": "code",
   "execution_count": 19,
   "metadata": {},
   "outputs": [
    {
     "name": "stdout",
     "output_type": "stream",
     "text": [
      "┌─────────────┐\n",
      "│┌─┬─┬─┬─┬─┬─┐│\n",
      "││0│1│2│3│4│5││\n",
      "│├─┼─┼─┼─┼─┼─┤│\n",
      "││0│0│2│1│1│1││\n",
      "│└─┴─┴─┴─┴─┴─┘│\n",
      "└─────────────┘\n"
     ]
    }
   ],
   "source": [
    "3 { corpus"
   ]
  },
  {
   "cell_type": "markdown",
   "metadata": {},
   "source": [
    "... which corresponds to:"
   ]
  },
  {
   "cell_type": "code",
   "execution_count": 20,
   "metadata": {},
   "outputs": [
    {
     "name": "stdout",
     "output_type": "stream",
     "text": [
      "We can see the shining sun, the bright sun.\n"
     ]
    }
   ],
   "source": [
    "]txt_3"
   ]
  },
  {
   "cell_type": "markdown",
   "metadata": {},
   "source": [
    "Without stop-words and punctuation characters and split into single words:"
   ]
  },
  {
   "cell_type": "code",
   "execution_count": 21,
   "metadata": {},
   "outputs": [
    {
     "name": "stdout",
     "output_type": "stream",
     "text": [
      "┌───┬───────┬───┬──────┬───┐\n",
      "│see│shining│sun│bright│sun│\n",
      "└───┴───────┴───┴──────┴───┘\n"
     ]
    }
   ],
   "source": [
    "remove_stop_words cut remove_punc_chars tolower txt_3"
   ]
  },
  {
   "cell_type": "markdown",
   "metadata": {},
   "source": [
    "So the meaning of the last corpus cell is as follows:"
   ]
  },
  {
   "cell_type": "code",
   "execution_count": 22,
   "metadata": {},
   "outputs": [
    {
     "name": "stdout",
     "output_type": "stream",
     "text": [
      "┌───┬────┬───┬──────┬───┬───────┐\n",
      "│0  │1   │2  │3     │4  │5      │\n",
      "├───┼────┼───┼──────┼───┼───────┤\n",
      "│sky│blue│sun│bright│see│shining│\n",
      "├───┼────┼───┼──────┼───┼───────┤\n",
      "│0  │0   │2  │1     │1  │1      │\n",
      "└───┴────┴───┴──────┴───┴───────┘\n"
     ]
    }
   ],
   "source": [
    "dictionary , 1{>3{corpus"
   ]
  },
  {
   "cell_type": "markdown",
   "metadata": {},
   "source": [
    "Row 1 = Dictionary IDs\n",
    "\n",
    "Row 2 = Dictionary Words\n",
    "\n",
    "Row 3 = Word Frequency\n",
    "\n",
    "In fact, we only need the \"Word Frequency\" row. The rest is just for clarification."
   ]
  },
  {
   "cell_type": "markdown",
   "metadata": {},
   "source": [
    "### Step 7:\n",
    "\n",
    "Create a bag of words (bow) for the test set (search_list), similar to the corpus from step 6."
   ]
  },
  {
   "cell_type": "code",
   "execution_count": 23,
   "metadata": {},
   "outputs": [
    {
     "name": "stdout",
     "output_type": "stream",
     "text": [
      "the sky is blue.\n"
     ]
    }
   ],
   "source": [
    "NB. Prepare search_text\n",
    "]search_text =: tolower search_text"
   ]
  },
  {
   "cell_type": "code",
   "execution_count": 24,
   "metadata": {},
   "outputs": [
    {
     "name": "stdout",
     "output_type": "stream",
     "text": [
      "the sky is blue\n"
     ]
    }
   ],
   "source": [
    "]search_text =: remove_punc_chars search_text"
   ]
  },
  {
   "cell_type": "code",
   "execution_count": 25,
   "metadata": {},
   "outputs": [
    {
     "name": "stdout",
     "output_type": "stream",
     "text": [
      "┌───┬───┬──┬────┐\n",
      "│the│sky│is│blue│\n",
      "└───┴───┴──┴────┘\n"
     ]
    }
   ],
   "source": [
    "]search_list =: cut search_text"
   ]
  },
  {
   "cell_type": "code",
   "execution_count": 26,
   "metadata": {},
   "outputs": [
    {
     "name": "stdout",
     "output_type": "stream",
     "text": [
      "┌───┬────┐\n",
      "│sky│blue│\n",
      "└───┴────┘\n"
     ]
    }
   ],
   "source": [
    "]search_list =: remove_stop_words search_list"
   ]
  },
  {
   "cell_type": "code",
   "execution_count": 27,
   "metadata": {},
   "outputs": [
    {
     "name": "stdout",
     "output_type": "stream",
     "text": [
      "┌─┬─┐\n",
      "│0│1│\n",
      "├─┼─┤\n",
      "│1│1│\n",
      "└─┴─┘\n"
     ]
    }
   ],
   "source": [
    "NB. Create search bow\n",
    "]search_bow =: |: classify_entries I. dict_words e. search_list"
   ]
  },
  {
   "cell_type": "code",
   "execution_count": 28,
   "metadata": {},
   "outputs": [
    {
     "name": "stdout",
     "output_type": "stream",
     "text": [
      "2 3 4 5\n"
     ]
    }
   ],
   "source": [
    "]fill_bow =: get_missing_indices search_list"
   ]
  },
  {
   "cell_type": "code",
   "execution_count": 29,
   "metadata": {},
   "outputs": [
    {
     "name": "stdout",
     "output_type": "stream",
     "text": [
      "┌─┬─┬─┬─┐\n",
      "│2│3│4│5│\n",
      "├─┼─┼─┼─┤\n",
      "│0│0│0│0│\n",
      "└─┴─┴─┴─┘\n"
     ]
    }
   ],
   "source": [
    "]fill_bow =: |:(<\"0 fill_bow),.(#fill_bow)$(<0)"
   ]
  },
  {
   "cell_type": "code",
   "execution_count": 30,
   "metadata": {},
   "outputs": [
    {
     "name": "stdout",
     "output_type": "stream",
     "text": [
      "┌─┬─┬─┬─┬─┬─┐\n",
      "│0│1│2│3│4│5│\n",
      "├─┼─┼─┼─┼─┼─┤\n",
      "│1│1│0│0│0│0│\n",
      "└─┴─┴─┴─┴─┴─┘\n"
     ]
    }
   ],
   "source": [
    "]search_bow =: search_bow,.fill_bow"
   ]
  },
  {
   "cell_type": "code",
   "execution_count": 31,
   "metadata": {},
   "outputs": [
    {
     "name": "stdout",
     "output_type": "stream",
     "text": [
      "┌─┬─┬─┬─┬─┬─┐\n",
      "│0│1│2│3│4│5│\n",
      "├─┼─┼─┼─┼─┼─┤\n",
      "│1│1│0│0│0│0│\n",
      "└─┴─┴─┴─┴─┴─┘\n"
     ]
    }
   ],
   "source": [
    "]search_bow =: |: (]/:{\"1) |: search_bow"
   ]
  },
  {
   "cell_type": "markdown",
   "metadata": {},
   "source": [
    "### Step 8:\n",
    "\n",
    "Extract document vectors from corpus, and the search bow vector from search_bow."
   ]
  },
  {
   "cell_type": "code",
   "execution_count": 32,
   "metadata": {},
   "outputs": [
    {
     "name": "stdout",
     "output_type": "stream",
     "text": [
      "1 1 0 0 0 0\n",
      "0 0 1 1 0 0\n",
      "1 0 1 1 0 0\n",
      "0 0 2 1 1 1\n"
     ]
    }
   ],
   "source": [
    "NB. Extract corpus bow vectors\n",
    "]corpvect =: ((#txt_n),(#dict_words)) $ (1{,./ >> each corpus)"
   ]
  },
  {
   "cell_type": "code",
   "execution_count": 33,
   "metadata": {},
   "outputs": [
    {
     "name": "stdout",
     "output_type": "stream",
     "text": [
      "1 1 0 0 0 0\n"
     ]
    }
   ],
   "source": [
    "NB. Extract search bow vector\n",
    "]searvect =: >1{search_bow"
   ]
  },
  {
   "cell_type": "markdown",
   "metadata": {},
   "source": [
    "### Step 9:\n",
    "\n",
    "Calculate the inverse document frequency (idf) of each word/term. The idf is calculated by determining in how many documents (txt_0-3) does word_n appear?\n",
    "\n",
    "Question: In how many documents does word_0 (sky) appear?\n",
    "\n",
    "Answer: word_0 (sky) appears in 2 documents (txt_0 & txt_2).\n",
    "\n",
    "Doing this for all words/terms, results in:"
   ]
  },
  {
   "cell_type": "code",
   "execution_count": 34,
   "metadata": {},
   "outputs": [
    {
     "name": "stdout",
     "output_type": "stream",
     "text": [
      "2 1 3 3 1 1\n"
     ]
    }
   ],
   "source": [
    "NB. Calculate inverse document frequency for each word in NB. dictionary\n",
    "]idfs =: > get_idf each dict_words"
   ]
  },
  {
   "cell_type": "markdown",
   "metadata": {},
   "source": [
    "### Step 10:\n",
    "\n",
    "Calculate the idf weight for each word/term using the formula:\n",
    "\n",
    "$$\n",
    "\\begin{align}\n",
    "w = log_2 \\frac{n}{f}\n",
    "\\end{align}\n",
    "$$\n",
    "\n",
    "**where:**\n",
    "\n",
    "$$\n",
    "\\begin{align}\n",
    "w &= \\text{weight} \\\\\n",
    "n &= \\text{number of documents} \\\\\n",
    "f &= \\text{inverse document frequency} \\\\\n",
    "\\end{align}\n",
    "$$\n",
    "\n",
    "Doing this for all words/terms in idfs, results in:"
   ]
  },
  {
   "cell_type": "code",
   "execution_count": 35,
   "metadata": {},
   "outputs": [
    {
     "name": "stdout",
     "output_type": "stream",
     "text": [
      "1 2 0.415037 0.415037 2 2\n"
     ]
    }
   ],
   "source": [
    "NB. Calculate the idf weight\n",
    "]idfs =: 2^.(#txt_n)%idfs"
   ]
  },
  {
   "cell_type": "markdown",
   "metadata": {},
   "source": [
    "### Step 11:\n",
    "\n",
    "Multiply each term frequency in the search bow with the inverse document frequency weight calculated in step 10.\n",
    "\n",
    "$$\n",
    "\\begin{align}\n",
    "(0,1) \\Rightarrow 1 \\times idfs[0] &= 1 \\times 1.0 = 1.0 \\Rightarrow (0,1.0) \\\\\n",
    "(1,1) \\Rightarrow 1 \\times idfs[1] &= 1 \\times 2.0 = 2.0 \\Rightarrow (1,2.0)\n",
    "\\end{align}\n",
    "$$\n",
    "\n",
    "Then normalize the resulting vector using the formula:\n",
    "\n",
    "$$\n",
    "\\begin{align}\n",
    "n_1 = \\frac{w_1}{\\sqrt{w_1^2 + w_2^2 + ... + w_n^2}}\n",
    "\\end{align}\n",
    "$$\n",
    "\n",
    "**Example:**\n",
    "\n",
    "$$\n",
    "\\begin{align}\n",
    "n_0 = \\frac{1.0}{\\sqrt{1.0^2 + 2.0^2}} = 0.4472135954999579\n",
    "\\end{align}\n",
    "$$\n",
    "\n",
    "$$\n",
    "\\begin{align}\n",
    "n_1 = \\frac{2.0}{\\sqrt{1.0^2 + 2.0^2}} = 0.8944271909999159\n",
    "\\end{align}\n",
    "$$"
   ]
  },
  {
   "cell_type": "code",
   "execution_count": 36,
   "metadata": {},
   "outputs": [
    {
     "name": "stdout",
     "output_type": "stream",
     "text": [
      "0.447214 0.894427 0 0 0 0\n"
     ]
    }
   ],
   "source": [
    "NB. Calculate tfidf vector\n",
    "]tfidf_vect =: normalize (searvect * idfs)"
   ]
  },
  {
   "cell_type": "markdown",
   "metadata": {},
   "source": [
    "### Step 12:\n",
    "\n",
    "Calculate the corpus idfs."
   ]
  },
  {
   "cell_type": "code",
   "execution_count": 37,
   "metadata": {},
   "outputs": [
    {
     "name": "stdout",
     "output_type": "stream",
     "text": [
      "1 2        0        0 0 0\n",
      "0 0 0.415037 0.415037 0 0\n",
      "1 0 0.415037 0.415037 0 0\n",
      "0 0 0.830075 0.415037 2 2\n"
     ]
    }
   ],
   "source": [
    "NB. Calculate corpus idfs\n",
    "]corpus_idfs =: corpvect *\"1 idfs"
   ]
  },
  {
   "cell_type": "markdown",
   "metadata": {},
   "source": [
    "### Step 13:\n",
    "\n",
    "Normalize all vectors in corpus_idfs using the formula from step 11."
   ]
  },
  {
   "cell_type": "code",
   "execution_count": 38,
   "metadata": {},
   "outputs": [
    {
     "name": "stdout",
     "output_type": "stream",
     "text": [
      "0.447214 0.894427        0        0        0        0\n",
      "       0        0 0.707107 0.707107        0        0\n",
      "0.862418        0 0.357936 0.357936        0        0\n",
      "       0        0 0.278849 0.139424 0.671865 0.671865\n"
     ]
    }
   ],
   "source": [
    "NB. Calculate normalized corpus idfs\n",
    "]norm_idfs =: normalize\"1 corpus_idfs"
   ]
  },
  {
   "cell_type": "markdown",
   "metadata": {},
   "source": [
    "### Step 14:\n",
    "\n",
    "Calculate the cosine similarity (score value), which is the dot product of each vector (row) in corpus_idfs and tfidf_vect, the query/search vector."
   ]
  },
  {
   "cell_type": "code",
   "execution_count": 39,
   "metadata": {},
   "outputs": [
    {
     "name": "stdout",
     "output_type": "stream",
     "text": [
      "1 0 0.385685 0\n"
     ]
    }
   ],
   "source": [
    "NB. Calculate cosine similarity\n",
    "]cosine_similarity =: +/ |: norm_idfs *\"1 tfidf_vect"
   ]
  },
  {
   "cell_type": "markdown",
   "metadata": {},
   "source": [
    "### Step 15:\n",
    "\n",
    "Finally we create a nice and human readable output from the resulting vector of step 14. That means, the query \"The sky is blue\" matches the documents (txt_0-3) as follows:"
   ]
  },
  {
   "cell_type": "code",
   "execution_count": 40,
   "metadata": {},
   "outputs": [
    {
     "name": "stdout",
     "output_type": "stream",
     "text": [
      "┌────────────────┬────────────────┐\n",
      "│Document (txt_n)│Similarity Score│\n",
      "├────────────────┼────────────────┤\n",
      "│0               │1               │\n",
      "├────────────────┼────────────────┤\n",
      "│1               │0               │\n",
      "├────────────────┼────────────────┤\n",
      "│2               │0.385685        │\n",
      "├────────────────┼────────────────┤\n",
      "│3               │0               │\n",
      "└────────────────┴────────────────┘\n"
     ]
    }
   ],
   "source": [
    "NB. Create nice output\n",
    "]docsim =: ('Document (txt_n)';'Similarity Score'),((<\"0 i.#cosine_similarity),.(<\"0 cosine_similarity))"
   ]
  },
  {
   "cell_type": "code",
   "execution_count": null,
   "metadata": {},
   "outputs": [],
   "source": []
  }
 ],
 "metadata": {
  "kernelspec": {
   "display_name": "J",
   "language": "J",
   "name": "jkernel"
  },
  "language_info": {
   "file_extension": "ijs",
   "mimetype": "text/x-J",
   "name": "J"
  }
 },
 "nbformat": 4,
 "nbformat_minor": 2
}
