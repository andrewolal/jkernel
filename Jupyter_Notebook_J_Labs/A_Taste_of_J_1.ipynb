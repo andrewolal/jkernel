{
 "cells": [
  {
   "cell_type": "markdown",
   "metadata": {},
   "source": [
    "# J Labs\n",
    "\n",
    "### A Taste of J (1)"
   ]
  },
  {
   "cell_type": "markdown",
   "metadata": {},
   "source": [
    "### (1 of 35) First Steps\n",
    "\n",
    "You can use J as a calculator - just type sentences into the window and press Enter.\n",
    "\n",
    "For example, add 5 to the three numbers 10 20 30:"
   ]
  },
  {
   "cell_type": "code",
   "execution_count": null,
   "metadata": {},
   "outputs": [],
   "source": [
    "5 + 10 20 30"
   ]
  },
  {
   "cell_type": "markdown",
   "metadata": {},
   "source": [
    "### (2 of 35) First Steps (ctd)\n",
    "\n",
    "You are encouraged to experiment when going through labs.\n",
    "\n",
    "You can type in your own sentences, or re-enter sentences by copy/paste from one cell into another.\n",
    "\n",
    "Try this now with the sentence 5 + 10 20 30 shown above."
   ]
  },
  {
   "cell_type": "code",
   "execution_count": null,
   "metadata": {},
   "outputs": [],
   "source": [
    "5 + 10 20 30"
   ]
  },
  {
   "cell_type": "markdown",
   "metadata": {
    "collapsed": true
   },
   "source": [
    "### (3 of 35) First Steps (ctd)\n",
    "\n",
    "The standard mathematical functions are + - * % ^ ^., i.e. plus, minus, times, divide, power and log:"
   ]
  },
  {
   "cell_type": "code",
   "execution_count": null,
   "metadata": {},
   "outputs": [],
   "source": [
    "5 + 10 20 30"
   ]
  },
  {
   "cell_type": "code",
   "execution_count": null,
   "metadata": {},
   "outputs": [],
   "source": [
    "5 - 10 20 30"
   ]
  },
  {
   "cell_type": "code",
   "execution_count": null,
   "metadata": {},
   "outputs": [],
   "source": [
    "5 * 10 20 30"
   ]
  },
  {
   "cell_type": "code",
   "execution_count": null,
   "metadata": {},
   "outputs": [],
   "source": [
    "5 % 10 20 30"
   ]
  },
  {
   "cell_type": "code",
   "execution_count": null,
   "metadata": {},
   "outputs": [],
   "source": [
    "5 ^ 10 20 30"
   ]
  },
  {
   "cell_type": "code",
   "execution_count": null,
   "metadata": {},
   "outputs": [],
   "source": [
    "5 ^. 10 20 30"
   ]
  },
  {
   "cell_type": "markdown",
   "metadata": {},
   "source": [
    "### (4 of 35) First Steps (ctd)\n",
    "\n",
    "Note that the symbol for log \"^.\" has two characters. In general, J functions are written with either a single character as in power \"^\", or with two characters, where the second character is either a period \".\" or colon \":\".\n",
    "\n",
    "For example, *: squares its argument:"
   ]
  },
  {
   "cell_type": "code",
   "execution_count": null,
   "metadata": {},
   "outputs": [],
   "source": [
    "*: 10 20 30"
   ]
  },
  {
   "cell_type": "markdown",
   "metadata": {},
   "source": [
    "### (5 of 35) First Steps (ctd)\n",
    "\n",
    "Use =: to assign names.\n",
    "\n",
    "No result is shown if a sentence is an assignment; otherwise the result is displayed.\n",
    "\n",
    "Note that character strings are entered using quotes:"
   ]
  },
  {
   "cell_type": "code",
   "execution_count": null,
   "metadata": {
    "collapsed": true
   },
   "outputs": [],
   "source": [
    "a=: 5"
   ]
  },
  {
   "cell_type": "code",
   "execution_count": null,
   "metadata": {
    "collapsed": true
   },
   "outputs": [],
   "source": [
    "b=: 10 20 30"
   ]
  },
  {
   "cell_type": "code",
   "execution_count": null,
   "metadata": {
    "collapsed": true
   },
   "outputs": [],
   "source": [
    "log=: ^."
   ]
  },
  {
   "cell_type": "code",
   "execution_count": null,
   "metadata": {
    "collapsed": true
   },
   "outputs": [],
   "source": [
    "plus=: +"
   ]
  },
  {
   "cell_type": "code",
   "execution_count": null,
   "metadata": {
    "collapsed": true
   },
   "outputs": [],
   "source": [
    "square=: *:"
   ]
  },
  {
   "cell_type": "code",
   "execution_count": null,
   "metadata": {
    "collapsed": true
   },
   "outputs": [],
   "source": [
    "sum=: +/"
   ]
  },
  {
   "cell_type": "code",
   "execution_count": null,
   "metadata": {
    "collapsed": true
   },
   "outputs": [],
   "source": [
    "text=: 'hello world'"
   ]
  },
  {
   "cell_type": "markdown",
   "metadata": {},
   "source": [
    "### (6 of 35) First Steps (ctd)\n",
    "\n",
    "We can now use the assigned names:"
   ]
  },
  {
   "cell_type": "code",
   "execution_count": null,
   "metadata": {},
   "outputs": [],
   "source": [
    "a plus b"
   ]
  },
  {
   "cell_type": "code",
   "execution_count": null,
   "metadata": {},
   "outputs": [],
   "source": [
    "square b"
   ]
  },
  {
   "cell_type": "code",
   "execution_count": null,
   "metadata": {},
   "outputs": [],
   "source": [
    "sum b"
   ]
  },
  {
   "cell_type": "code",
   "execution_count": null,
   "metadata": {
    "collapsed": true
   },
   "outputs": [],
   "source": [
    "c=: a plus b"
   ]
  },
  {
   "cell_type": "code",
   "execution_count": null,
   "metadata": {},
   "outputs": [],
   "source": [
    "sum c"
   ]
  },
  {
   "cell_type": "code",
   "execution_count": null,
   "metadata": {},
   "outputs": [],
   "source": [
    "text"
   ]
  },
  {
   "cell_type": "markdown",
   "metadata": {},
   "source": [
    "### (7 of 35) Data Manipulation\n",
    "\n",
    "J excels at manipulating data. Let us try some examples.\n",
    "\n",
    "Define a character string t as follows:"
   ]
  },
  {
   "cell_type": "code",
   "execution_count": null,
   "metadata": {
    "collapsed": true
   },
   "outputs": [],
   "source": [
    "t=: 'earl of chatham'"
   ]
  },
  {
   "cell_type": "code",
   "execution_count": null,
   "metadata": {},
   "outputs": [],
   "source": [
    "t"
   ]
  },
  {
   "cell_type": "markdown",
   "metadata": {},
   "source": [
    "### (8 of 35) Data Manipulation (ctd)\n",
    "\n",
    "Count of t, i.e. number of characters in the string:"
   ]
  },
  {
   "cell_type": "code",
   "execution_count": null,
   "metadata": {},
   "outputs": [],
   "source": [
    "#t"
   ]
  },
  {
   "cell_type": "markdown",
   "metadata": {},
   "source": [
    "### (9 of 35) Data Manipulation (ctd)\n",
    "\n",
    "Nub of t, i.e. unique characters:"
   ]
  },
  {
   "cell_type": "code",
   "execution_count": null,
   "metadata": {},
   "outputs": [],
   "source": [
    "~. t"
   ]
  },
  {
   "cell_type": "markdown",
   "metadata": {},
   "source": [
    "### (10 of 35) Data Manipulation (ctd)\n",
    "\n",
    "Count of nub of t:"
   ]
  },
  {
   "cell_type": "code",
   "execution_count": null,
   "metadata": {},
   "outputs": [],
   "source": [
    "# ~. t"
   ]
  },
  {
   "cell_type": "markdown",
   "metadata": {},
   "source": [
    "### (11 of 35) Data Manipulation (ctd)\n",
    "\n",
    "Sort t in ascending order. \"sort\" is a predefined utility.\n",
    "\n",
    "The sort order is the standard ASCII alphabet, where blanks are sorted before other characters:"
   ]
  },
  {
   "cell_type": "code",
   "execution_count": null,
   "metadata": {},
   "outputs": [],
   "source": [
    "sort t"
   ]
  },
  {
   "cell_type": "markdown",
   "metadata": {},
   "source": [
    "### (12 of 35) Data Manipulation (ctd)\n",
    "\n",
    "Reverse t:"
   ]
  },
  {
   "cell_type": "code",
   "execution_count": null,
   "metadata": {},
   "outputs": [],
   "source": [
    "|. t"
   ]
  },
  {
   "cell_type": "markdown",
   "metadata": {},
   "source": [
    "### (13 of 35) Data Manipulation (ctd)\n",
    "\n",
    "Duplicate each letter:"
   ]
  },
  {
   "cell_type": "code",
   "execution_count": null,
   "metadata": {},
   "outputs": [],
   "source": [
    "2 # t"
   ]
  },
  {
   "cell_type": "markdown",
   "metadata": {},
   "source": [
    "### (14 of 35) Data Manipulation (ctd)\n",
    "\n",
    "Make 3 copies of t:"
   ]
  },
  {
   "cell_type": "code",
   "execution_count": null,
   "metadata": {},
   "outputs": [],
   "source": [
    "3 # ,: t"
   ]
  },
  {
   "cell_type": "markdown",
   "metadata": {},
   "source": [
    "### (15 of 35) Data Manipulation (ctd)\n",
    "\n",
    "Chop t into words.\n",
    "\n",
    "Note J puts each word in a box - when something is in a box it is treated as a single item, even though it may contain several numbers or characters:"
   ]
  },
  {
   "cell_type": "code",
   "execution_count": null,
   "metadata": {},
   "outputs": [],
   "source": [
    ";: t"
   ]
  },
  {
   "cell_type": "markdown",
   "metadata": {},
   "source": [
    "### (16 of 35) Data Manipulation (ctd)\n",
    "\n",
    "Sort words in t:"
   ]
  },
  {
   "cell_type": "code",
   "execution_count": null,
   "metadata": {},
   "outputs": [],
   "source": [
    "sort ;: t"
   ]
  },
  {
   "cell_type": "markdown",
   "metadata": {},
   "source": [
    "### (17 of 35) Data Manipulation (ctd)\n",
    "\n",
    "The utility \"each\" applies a function to each boxed item. For example, count the length of each word:"
   ]
  },
  {
   "cell_type": "code",
   "execution_count": null,
   "metadata": {},
   "outputs": [],
   "source": [
    "# each ;: t"
   ]
  },
  {
   "cell_type": "markdown",
   "metadata": {},
   "source": [
    "### (18 of 35) Numbers\n",
    "\n",
    "The above examples apply equally well to numbers.\n",
    "\n",
    "Other facilities are defined just for numbers. For example, the integer function (i.) generates numbers:"
   ]
  },
  {
   "cell_type": "code",
   "execution_count": null,
   "metadata": {},
   "outputs": [],
   "source": [
    "i.10           NB. first 10 numbers"
   ]
  },
  {
   "cell_type": "code",
   "execution_count": null,
   "metadata": {},
   "outputs": [],
   "source": [
    "i.4 3          NB. first 12 numbers in a 4 by 3 table"
   ]
  },
  {
   "cell_type": "code",
   "execution_count": null,
   "metadata": {},
   "outputs": [],
   "source": [
    "i.3 4 5        NB. first 60 numbers in a 3 by 4 by 5 table"
   ]
  },
  {
   "cell_type": "markdown",
   "metadata": {},
   "source": [
    "### (19 of 35) Numbers (ctd)\n",
    "\n",
    "The function +/ sums its argument. It is made up of + (add) with / (insert), meaning insert + between each item of the argument.\n",
    "\n",
    "So  +/ 10 20 30  means:  10 + 20 + 30.\n",
    "\n",
    "Similarly */ is \"multiply insert\", i.e. multiply all elements together."
   ]
  },
  {
   "cell_type": "code",
   "execution_count": null,
   "metadata": {},
   "outputs": [],
   "source": [
    "+/ 10 20 30"
   ]
  },
  {
   "cell_type": "code",
   "execution_count": null,
   "metadata": {},
   "outputs": [],
   "source": [
    "*/ 10 20 30"
   ]
  },
  {
   "cell_type": "markdown",
   "metadata": {},
   "source": [
    "### (20 of 35) Numbers (ctd)\n",
    "\n",
    "Add up the first 10,000 positive integers:"
   ]
  },
  {
   "cell_type": "code",
   "execution_count": null,
   "metadata": {},
   "outputs": [],
   "source": [
    "+/i.10001  NB. 10001 - since J starts counting at 0"
   ]
  },
  {
   "cell_type": "markdown",
   "metadata": {
    "collapsed": true
   },
   "source": [
    "### (21 of 35) Numbers (ctd)\n",
    "\n",
    "Add up i.3 4 5"
   ]
  },
  {
   "cell_type": "code",
   "execution_count": null,
   "metadata": {},
   "outputs": [],
   "source": [
    "+/i.3 4 5"
   ]
  },
  {
   "cell_type": "markdown",
   "metadata": {},
   "source": [
    "### (22 of 35) Numbers (ctd)\n",
    "\n",
    "\"power insert\" of 10 20 30 is a big number! It exceeds the representation used by the machine, so J returns infinity.\n",
    "\n",
    "Can you figure out the other examples below?\n",
    "\n",
    "(Try 3 ^ 4, then take 2 to the power of this number.)\n",
    "\n",
    "The 'x' used here means \"extended\" and instructs J to use extended precision in performing the calculations, instead of converting to floating point."
   ]
  },
  {
   "cell_type": "code",
   "execution_count": null,
   "metadata": {},
   "outputs": [],
   "source": [
    "^/ 10 20 30"
   ]
  },
  {
   "cell_type": "code",
   "execution_count": null,
   "metadata": {},
   "outputs": [],
   "source": [
    "^/ 2 3 4"
   ]
  },
  {
   "cell_type": "code",
   "execution_count": null,
   "metadata": {},
   "outputs": [],
   "source": [
    "^/ 2 3 4x"
   ]
  },
  {
   "cell_type": "markdown",
   "metadata": {},
   "source": [
    "### (23 of 35) Numbers (ctd)\n",
    "\n",
    "Note the \"e\" notation used in 2.41785e24, meaning:\n",
    "\n",
    "  2.41785 * 10^24\n",
    "\n",
    "J has other number notations that use letters:"
   ]
  },
  {
   "cell_type": "code",
   "execution_count": null,
   "metadata": {},
   "outputs": [],
   "source": [
    "3b102     NB. base (102 in base 3)"
   ]
  },
  {
   "cell_type": "code",
   "execution_count": null,
   "metadata": {},
   "outputs": [],
   "source": [
    "3r5       NB. ratio (3 % 5)"
   ]
  },
  {
   "cell_type": "code",
   "execution_count": null,
   "metadata": {},
   "outputs": [],
   "source": [
    "3j5       NB. complex number"
   ]
  },
  {
   "cell_type": "code",
   "execution_count": null,
   "metadata": {},
   "outputs": [],
   "source": [
    "3p5       NB. Pi (3 * Pi ^ 5)"
   ]
  },
  {
   "cell_type": "code",
   "execution_count": null,
   "metadata": {},
   "outputs": [],
   "source": [
    "3x5       NB. Exponentional (3 * 2.71828... ^ 5)"
   ]
  },
  {
   "cell_type": "markdown",
   "metadata": {},
   "source": [
    "### (24 of 35) Numbers (ctd)\n",
    "\n",
    "Examples:"
   ]
  },
  {
   "cell_type": "code",
   "execution_count": null,
   "metadata": {},
   "outputs": [],
   "source": [
    "1p1 2p1     NB. Pi, 2 * Pi"
   ]
  },
  {
   "cell_type": "code",
   "execution_count": null,
   "metadata": {},
   "outputs": [],
   "source": [
    "%: -i.6     NB. square roots of minus 0 to minus 5"
   ]
  },
  {
   "cell_type": "markdown",
   "metadata": {},
   "source": [
    "### (25 of 35) Numbers (ctd)\n",
    "\n",
    "The function ? generates random numbers.\n",
    "\n",
    "For example, generate 20 random numbers in the range 0-99:"
   ]
  },
  {
   "cell_type": "code",
   "execution_count": null,
   "metadata": {},
   "outputs": [],
   "source": [
    "? 20#100"
   ]
  },
  {
   "cell_type": "code",
   "execution_count": null,
   "metadata": {},
   "outputs": [],
   "source": [
    "? 20#100"
   ]
  },
  {
   "cell_type": "markdown",
   "metadata": {},
   "source": [
    "### (26 of 35) Numbers (ctd)\n",
    "\n",
    "The function \"load\" reads in definitions from \"script\" files."
   ]
  },
  {
   "cell_type": "code",
   "execution_count": null,
   "metadata": {
    "collapsed": true
   },
   "outputs": [],
   "source": [
    "load 'stats'"
   ]
  },
  {
   "cell_type": "markdown",
   "metadata": {},
   "source": [
    "### (27 of 35) Numbers (ctd)\n",
    "\n",
    "Example:"
   ]
  },
  {
   "cell_type": "code",
   "execution_count": null,
   "metadata": {},
   "outputs": [],
   "source": [
    "dstat ? 20#100"
   ]
  },
  {
   "cell_type": "markdown",
   "metadata": {},
   "source": [
    "### (28 of 35) Numbers (ctd)\n",
    "\n",
    "normalrand generates random numbers in a normal distribution with mean 0 and standard deviation 1:"
   ]
  },
  {
   "cell_type": "code",
   "execution_count": null,
   "metadata": {},
   "outputs": [],
   "source": [
    "normalrand 6"
   ]
  },
  {
   "cell_type": "code",
   "execution_count": null,
   "metadata": {},
   "outputs": [],
   "source": [
    "dstat normalrand 10000"
   ]
  },
  {
   "cell_type": "markdown",
   "metadata": {},
   "source": [
    "### (29 of 35) Numbers (ctd)\n",
    "\n",
    "Read in the trig and plot functions:"
   ]
  },
  {
   "cell_type": "code",
   "execution_count": null,
   "metadata": {
    "collapsed": true
   },
   "outputs": [],
   "source": [
    "load 'trig plot'"
   ]
  },
  {
   "cell_type": "markdown",
   "metadata": {},
   "source": [
    "### (30 of 35) Numbers (ctd)\n",
    "\n",
    "Try generating sines, here the arguments are in radians:"
   ]
  },
  {
   "cell_type": "code",
   "execution_count": null,
   "metadata": {},
   "outputs": [],
   "source": [
    "sin i.6"
   ]
  },
  {
   "cell_type": "code",
   "execution_count": null,
   "metadata": {},
   "outputs": [],
   "source": [
    "sin i.3 4"
   ]
  },
  {
   "cell_type": "markdown",
   "metadata": {},
   "source": [
    "### (31 of 35) Numbers (ctd)\n",
    "\n",
    "You can plot numbers directly. The next section plots the sin of i.3 4. The lines are jagged because each point is joined by a straight line and there are very few points."
   ]
  },
  {
   "cell_type": "markdown",
   "metadata": {},
   "source": [
    "### (32 of 35) Numbers (ctd)"
   ]
  },
  {
   "cell_type": "code",
   "execution_count": null,
   "metadata": {},
   "outputs": [],
   "source": [
    "plot sin i.3 4"
   ]
  },
  {
   "cell_type": "markdown",
   "metadata": {},
   "source": [
    "### (33 of 35) Numbers (ctd)\n",
    "\n",
    "The next two sections plot sin 0.2 * i.30 30, first as a series of lines, then as a surface. This time there are enough data points to show smooth lines."
   ]
  },
  {
   "cell_type": "markdown",
   "metadata": {},
   "source": [
    "### (34 of 35) Numbers (ctd)"
   ]
  },
  {
   "cell_type": "code",
   "execution_count": null,
   "metadata": {},
   "outputs": [],
   "source": [
    "plot sin 0.2 * i.30 30"
   ]
  },
  {
   "cell_type": "markdown",
   "metadata": {},
   "source": [
    "### (35 of 35) Numbers (ctd)"
   ]
  },
  {
   "cell_type": "code",
   "execution_count": null,
   "metadata": {},
   "outputs": [],
   "source": [
    "'surface' plot sin 0.2 * i.30 30"
   ]
  },
  {
   "cell_type": "markdown",
   "metadata": {
    "collapsed": true
   },
   "source": [
    "### End of lab"
   ]
  },
  {
   "cell_type": "code",
   "execution_count": null,
   "metadata": {
    "collapsed": true
   },
   "outputs": [],
   "source": []
  }
 ],
 "metadata": {
  "kernelspec": {
   "display_name": "J",
   "language": "J",
   "name": "jkernel"
  },
  "language_info": {
   "file_extension": "ijs",
   "mimetype": "text/x-J",
   "name": "J"
  }
 },
 "nbformat": 4,
 "nbformat_minor": 2
}
